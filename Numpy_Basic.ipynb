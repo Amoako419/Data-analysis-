{
 "cells": [
  {
   "cell_type": "markdown",
   "id": "aebbbfd0-dcf4-412c-afde-51e59bb1c926",
   "metadata": {},
   "source": [
    "Numpy"
   ]
  },
  {
   "cell_type": "code",
   "execution_count": null,
   "id": "c72e9b67-a24e-4f66-97b6-b7f671668975",
   "metadata": {},
   "outputs": [],
   "source": [
    " import numpy as np"
   ]
  },
  {
   "cell_type": "code",
   "execution_count": 3,
   "id": "ae1cced7-73a7-4e59-867d-8ec19fcc0b5c",
   "metadata": {},
   "outputs": [
    {
     "name": "stdout",
     "output_type": "stream",
     "text": [
      "[1 2 3 4 5]\n"
     ]
    }
   ],
   "source": [
    " import numpy as np  \n",
    "oneDarray = np.array([1,2,3,4,5])\n",
    "print(oneDarray)"
   ]
  },
  {
   "cell_type": "code",
   "execution_count": 6,
   "id": "dccc79fd-24c4-4605-a5a2-030c8d0fd669",
   "metadata": {},
   "outputs": [
    {
     "name": "stdout",
     "output_type": "stream",
     "text": [
      "[[1 2 3]\n",
      " [4 5 6]]\n"
     ]
    }
   ],
   "source": [
    "twoDarray = np.array([[1,2,3],[4,5,6]])\n",
    "print(twoDarray)"
   ]
  },
  {
   "cell_type": "code",
   "execution_count": 7,
   "id": "d1bf1643-cdc4-402a-8ec7-538e8e71276e",
   "metadata": {},
   "outputs": [
    {
     "data": {
      "text/plain": [
       "array([4, 5, 6])"
      ]
     },
     "execution_count": 7,
     "metadata": {},
     "output_type": "execute_result"
    }
   ],
   "source": [
    "twoDarray[1]"
   ]
  },
  {
   "cell_type": "code",
   "execution_count": 8,
   "id": "7ee6b9a8-bc90-486b-b5db-4603d09b7a73",
   "metadata": {},
   "outputs": [
    {
     "data": {
      "text/plain": [
       "array([[[ 1,  2,  3],\n",
       "        [-1, -2, -3]],\n",
       "\n",
       "       [[ 4,  5,  6],\n",
       "        [-4, -5, -6]]])"
      ]
     },
     "execution_count": 8,
     "metadata": {},
     "output_type": "execute_result"
    }
   ],
   "source": [
    "threeDarray = np.array([[[1,2,3],[-1,-2,-3]],[[4,5,6],[-4,-5,-6]]])\n",
    "threeDarray"
   ]
  },
  {
   "cell_type": "code",
   "execution_count": 9,
   "id": "b5a6d4e3-3e7a-4de5-810c-72967631745b",
   "metadata": {},
   "outputs": [
    {
     "data": {
      "text/plain": [
       "array([[ 1,  2,  3],\n",
       "       [-1, -2, -3]])"
      ]
     },
     "execution_count": 9,
     "metadata": {},
     "output_type": "execute_result"
    }
   ],
   "source": [
    "threeDarray[0]"
   ]
  },
  {
   "cell_type": "code",
   "execution_count": 12,
   "id": "3eeb3263-ed2c-41ca-bd1f-2d47b1356620",
   "metadata": {},
   "outputs": [
    {
     "data": {
      "text/plain": [
       "array([0, 0, 0, 0, 0, 0, 0, 0, 0, 0])"
      ]
     },
     "execution_count": 12,
     "metadata": {},
     "output_type": "execute_result"
    }
   ],
   "source": [
    "zeroArrays = np.zeros(10)\n",
    "zeroArrays = zeroArrays.astype(int)\n",
    "zeroArrays"
   ]
  },
  {
   "cell_type": "code",
   "execution_count": 13,
   "id": "3478cee6-b8c8-4ccb-8c4f-a5b814dbd232",
   "metadata": {},
   "outputs": [
    {
     "data": {
      "text/plain": [
       "array([1, 1, 1, 1, 1, 1, 1, 1, 1, 1])"
      ]
     },
     "execution_count": 13,
     "metadata": {},
     "output_type": "execute_result"
    }
   ],
   "source": [
    "onesArray = np.ones(10)\n",
    "onesArray = onesArray.astype(int)\n",
    "onesArray"
   ]
  },
  {
   "cell_type": "code",
   "execution_count": 14,
   "id": "08c3bc95-10e0-4618-9314-292688f2ddee",
   "metadata": {},
   "outputs": [
    {
     "data": {
      "text/plain": [
       "array([2, 2, 2, 2, 2, 2, 2, 2, 2, 2])"
      ]
     },
     "execution_count": 14,
     "metadata": {},
     "output_type": "execute_result"
    }
   ],
   "source": [
    "fullArray = np.full(10,2)\n",
    "fullArray "
   ]
  },
  {
   "cell_type": "code",
   "execution_count": 15,
   "id": "bafd2bf3-67d3-4e5f-8578-036900ca981a",
   "metadata": {},
   "outputs": [
    {
     "name": "stdout",
     "output_type": "stream",
     "text": [
      "[[3 4 5]\n",
      " [6 7 8]]\n"
     ]
    }
   ],
   "source": [
    "matrix = np.array([[1,2,3],[4,5,6]])\n",
    "print(matrix + 2)"
   ]
  },
  {
   "cell_type": "code",
   "execution_count": 16,
   "id": "20b2e3d3-00ab-46fb-a34c-4f1a148a8d98",
   "metadata": {},
   "outputs": [
    {
     "name": "stdout",
     "output_type": "stream",
     "text": [
      "[[ 2  4  6]\n",
      " [ 8 10 12]]\n"
     ]
    }
   ],
   "source": [
    "print(matrix * 2)"
   ]
  },
  {
   "cell_type": "code",
   "execution_count": 17,
   "id": "a1f45300-5284-4dde-b3bd-ad59c470d66f",
   "metadata": {},
   "outputs": [
    {
     "name": "stdout",
     "output_type": "stream",
     "text": [
      "[[ 1  4  9]\n",
      " [16 25 36]]\n"
     ]
    }
   ],
   "source": [
    "print(matrix ** 2)"
   ]
  },
  {
   "cell_type": "code",
   "execution_count": 18,
   "id": "2994c51a-db86-4539-ba79-f8ad72bd4815",
   "metadata": {},
   "outputs": [
    {
     "data": {
      "text/plain": [
       "array([[1, 4],\n",
       "       [2, 5],\n",
       "       [3, 6]])"
      ]
     },
     "execution_count": 18,
     "metadata": {},
     "output_type": "execute_result"
    }
   ],
   "source": [
    "t = matrix.T\n",
    "t"
   ]
  },
  {
   "cell_type": "code",
   "execution_count": 20,
   "id": "b87d6092-4e26-42ff-9a91-fd89aa5fa9e2",
   "metadata": {},
   "outputs": [
    {
     "data": {
      "text/plain": [
       "array([[-30, -36, -42],\n",
       "       [-66, -81, -96],\n",
       "       [  0,   0,   0]])"
      ]
     },
     "execution_count": 20,
     "metadata": {},
     "output_type": "execute_result"
    }
   ],
   "source": [
    "matrix1 = np.array([[-1,-2,-3], [-4,-5,-6], [0,0,0]])\n",
    "matrix2 = np.array([[1,2,3], [4,5,6], [7,8,9]])\n",
    "M = np.matmul(matrix1 , matrix2)\n",
    "M"
   ]
  },
  {
   "cell_type": "code",
   "execution_count": 21,
   "id": "539be039-1a99-4c9b-8da3-23467ff17743",
   "metadata": {},
   "outputs": [
    {
     "data": {
      "text/plain": [
       "1"
      ]
     },
     "execution_count": 21,
     "metadata": {},
     "output_type": "execute_result"
    }
   ],
   "source": [
    "np.min(matrix)"
   ]
  },
  {
   "cell_type": "code",
   "execution_count": 22,
   "id": "92e5405c-f014-4058-bc64-56865d4212b8",
   "metadata": {},
   "outputs": [
    {
     "data": {
      "text/plain": [
       "6"
      ]
     },
     "execution_count": 22,
     "metadata": {},
     "output_type": "execute_result"
    }
   ],
   "source": [
    "np.max(matrix)"
   ]
  },
  {
   "cell_type": "code",
   "execution_count": 23,
   "id": "5f0a4d6b-7e6a-47ac-adf2-32144be38258",
   "metadata": {},
   "outputs": [
    {
     "data": {
      "text/plain": [
       "21"
      ]
     },
     "execution_count": 23,
     "metadata": {},
     "output_type": "execute_result"
    }
   ],
   "source": [
    "np.sum(matrix)"
   ]
  },
  {
   "cell_type": "code",
   "execution_count": 24,
   "id": "59d4b857-b112-45b1-ad45-f3aef2666bb6",
   "metadata": {},
   "outputs": [
    {
     "data": {
      "text/plain": [
       "3.5"
      ]
     },
     "execution_count": 24,
     "metadata": {},
     "output_type": "execute_result"
    }
   ],
   "source": [
    "np.mean(matrix)"
   ]
  },
  {
   "cell_type": "code",
   "execution_count": 25,
   "id": "f0b8412e-10cf-42ff-bf75-afa3c691252f",
   "metadata": {},
   "outputs": [
    {
     "data": {
      "text/plain": [
       "1.707825127659933"
      ]
     },
     "execution_count": 25,
     "metadata": {},
     "output_type": "execute_result"
    }
   ],
   "source": [
    "np.std(matrix)"
   ]
  },
  {
   "cell_type": "code",
   "execution_count": 27,
   "id": "b3e0bf84-7811-49ec-abe9-8e8258c2f548",
   "metadata": {},
   "outputs": [
    {
     "data": {
      "text/plain": [
       "3.5"
      ]
     },
     "execution_count": 27,
     "metadata": {},
     "output_type": "execute_result"
    }
   ],
   "source": [
    "np.median(matrix)"
   ]
  }
 ],
 "metadata": {
  "kernelspec": {
   "display_name": "Python 3 (ipykernel)",
   "language": "python",
   "name": "python3"
  },
  "language_info": {
   "codemirror_mode": {
    "name": "ipython",
    "version": 3
   },
   "file_extension": ".py",
   "mimetype": "text/x-python",
   "name": "python",
   "nbconvert_exporter": "python",
   "pygments_lexer": "ipython3",
   "version": "3.11.5"
  }
 },
 "nbformat": 4,
 "nbformat_minor": 5
}
