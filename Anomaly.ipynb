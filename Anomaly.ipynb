{
 "cells": [
  {
   "cell_type": "code",
   "execution_count": 2,
   "id": "ea03a9f8-767c-4ebd-bf11-bc66873fb051",
   "metadata": {},
   "outputs": [
    {
     "name": "stdout",
     "output_type": "stream",
     "text": [
      "[4.5]\n"
     ]
    }
   ],
   "source": [
    "import pandas as pd \n",
    "import numpy as np\n",
    "\n",
    "x = pd.Series([2.1,2.3,4.5,2.2,2.4])\n",
    "\n",
    "median = np.median(x)\n",
    "threshold = 2\n",
    "outliers = []\n",
    "for item in x:\n",
    "    if abs(item - median) > threshold:\n",
    "        outliers.append(item)\n",
    "\n",
    "print(outliers)"
   ]
  },
  {
   "cell_type": "code",
   "execution_count": 3,
   "id": "4d0bc5a7-4587-4a3e-bcea-681468f71b40",
   "metadata": {},
   "outputs": [
    {
     "data": {
      "text/plain": [
       "[4.5]"
      ]
     },
     "execution_count": 3,
     "metadata": {},
     "output_type": "execute_result"
    }
   ],
   "source": [
    "x = pd.Series([2.1,2.3,4.5,2.2,2.4])\n",
    "\n",
    "mean = np.mean(x)\n",
    "std = np.std(x)\n",
    "outliers = []\n",
    "for item in x:\n",
    "    if (item < mean - std) or (item > mean + std):\n",
    "        outliers.append(item)\n",
    "\n",
    "outliers"
   ]
  },
  {
   "cell_type": "code",
   "execution_count": 4,
   "id": "0d3a4a9a-0d62-492b-b8f2-9b7fa07f9f1d",
   "metadata": {},
   "outputs": [],
   "source": [
    "import re"
   ]
  },
  {
   "cell_type": "code",
   "execution_count": 8,
   "id": "c938ebc9-e5a4-456b-a839-78e903194abb",
   "metadata": {},
   "outputs": [
    {
     "data": {
      "text/plain": [
       "['Python', 'Python']"
      ]
     },
     "execution_count": 8,
     "metadata": {},
     "output_type": "execute_result"
    }
   ],
   "source": [
    "txt = 'Python is my favorite programming language. I love Python'\n",
    "x = re.findall('Python',txt)\n",
    "x"
   ]
  },
  {
   "cell_type": "code",
   "execution_count": 10,
   "id": "4c73eb45-5b43-4aba-97d5-7c297a290f8c",
   "metadata": {},
   "outputs": [],
   "source": [
    "import pandas as pd\n",
    "import re\n"
   ]
  },
  {
   "cell_type": "code",
   "execution_count": 13,
   "id": "7e730b64-5a30-4203-adff-7863e950a0d5",
   "metadata": {},
   "outputs": [
    {
     "data": {
      "text/plain": [
       "0     Pakistan\n",
       "1    Indonesia\n",
       "2       Jordan\n",
       "3     Pakistan\n",
       "dtype: object"
      ]
     },
     "execution_count": 13,
     "metadata": {},
     "output_type": "execute_result"
    }
   ],
   "source": [
    "txtList = ['Pakistan','Indonesia','Jordan','Pakistan']\n",
    "txt = pd.Series(txtList)\n",
    "txt"
   ]
  },
  {
   "cell_type": "code",
   "execution_count": 14,
   "id": "bca2a208-4ee2-494d-ba70-1a46c70f7b14",
   "metadata": {},
   "outputs": [
    {
     "data": {
      "text/plain": [
       "['Pakistan', 'Pakistan']"
      ]
     },
     "execution_count": 14,
     "metadata": {},
     "output_type": "execute_result"
    }
   ],
   "source": [
    "re.findall('Pakistan',txt.to_string())"
   ]
  },
  {
   "cell_type": "code",
   "execution_count": 22,
   "id": "d72f0f0d-4d02-435f-a007-85296cad9e11",
   "metadata": {},
   "outputs": [
    {
     "data": {
      "text/plain": [
       "(6, 11)"
      ]
     },
     "execution_count": 22,
     "metadata": {},
     "output_type": "execute_result"
    }
   ],
   "source": [
    "import pandas as pd\n",
    "import re\n",
    "\n",
    "text = 'Hello World'\n",
    "match_object= re.search('World',text)\n",
    "match_object.span()"
   ]
  },
  {
   "cell_type": "code",
   "execution_count": null,
   "id": "ba1e012f-4e96-41d4-b59c-2a6f024aa31c",
   "metadata": {},
   "outputs": [],
   "source": []
  }
 ],
 "metadata": {
  "kernelspec": {
   "display_name": "Python 3 (ipykernel)",
   "language": "python",
   "name": "python3"
  },
  "language_info": {
   "codemirror_mode": {
    "name": "ipython",
    "version": 3
   },
   "file_extension": ".py",
   "mimetype": "text/x-python",
   "name": "python",
   "nbconvert_exporter": "python",
   "pygments_lexer": "ipython3",
   "version": "3.11.5"
  }
 },
 "nbformat": 4,
 "nbformat_minor": 5
}
